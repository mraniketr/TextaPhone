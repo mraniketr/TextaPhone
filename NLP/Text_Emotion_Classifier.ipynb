{
  "nbformat": 4,
  "nbformat_minor": 0,
  "metadata": {
    "colab": {
      "name": "Text Emotion Classifier.ipynb",
      "provenance": [],
      "authorship_tag": "ABX9TyMPRb5eTXBeiI4IN4brGX+U",
      "include_colab_link": true
    },
    "kernelspec": {
      "name": "python3",
      "display_name": "Python 3"
    }
  },
  "cells": [
    {
      "cell_type": "markdown",
      "metadata": {
        "id": "view-in-github",
        "colab_type": "text"
      },
      "source": [
        "<a href=\"https://colab.research.google.com/github/mraniketr/twoModeCalling/blob/master/Text_Emotion_Classifier.ipynb\" target=\"_parent\"><img src=\"https://colab.research.google.com/assets/colab-badge.svg\" alt=\"Open In Colab\"/></a>"
      ]
    },
    {
      "cell_type": "code",
      "metadata": {
        "id": "sw1UFqYzKLBb",
        "colab_type": "code",
        "colab": {}
      },
      "source": [
        "import pandas as pd\n",
        "import numpy as np"
      ],
      "execution_count": 0,
      "outputs": []
    },
    {
      "cell_type": "code",
      "metadata": {
        "id": "29GCrxzxy0FO",
        "colab_type": "code",
        "colab": {}
      },
      "source": [
        "data = pd.read_csv('text_emotion2.csv')"
      ],
      "execution_count": 0,
      "outputs": []
    },
    {
      "cell_type": "code",
      "metadata": {
        "id": "0FX620z5LMje",
        "colab_type": "code",
        "colab": {}
      },
      "source": [
        "data = data.drop('author', axis=1)"
      ],
      "execution_count": 0,
      "outputs": []
    },
    {
      "cell_type": "code",
      "metadata": {
        "id": "UjeJhtCqIXoo",
        "colab_type": "code",
        "outputId": "ac12255d-6964-4041-82cd-6f1f415735a7",
        "colab": {
          "base_uri": "https://localhost:8080/",
          "height": 84
        }
      },
      "source": [
        "data.count()"
      ],
      "execution_count": 0,
      "outputs": [
        {
          "output_type": "execute_result",
          "data": {
            "text/plain": [
              "tweet_id     40000\n",
              "sentiment    40000\n",
              "content      40000\n",
              "dtype: int64"
            ]
          },
          "metadata": {
            "tags": []
          },
          "execution_count": 21
        }
      ]
    },
    {
      "cell_type": "code",
      "metadata": {
        "id": "wVVV39csab9D",
        "colab_type": "code",
        "colab": {}
      },
      "source": [
        "data = data.drop(data[data.sentiment == 'anger'].index)\n",
        "data = data.drop(data[data.sentiment == 'boredom'].index)\n",
        "data = data.drop(data[data.sentiment == 'enthusiasm'].index)\n",
        "data = data.drop(data[data.sentiment == 'empty'].index)\n",
        "data = data.drop(data[data.sentiment == 'fun'].index)\n",
        "data = data.drop(data[data.sentiment == 'relief'].index)\n",
        "data = data.drop(data[data.sentiment == 'surprise'].index)\n",
        "data = data.drop(data[data.sentiment == 'love'].index)\n",
        "data = data.drop(data[data.sentiment == 'hate'].index)\n",
        "data = data.drop(data[data.sentiment == 'neutral'].index)\n",
        "data = data.drop(data[data.sentiment == 'worry'].index)"
      ],
      "execution_count": 0,
      "outputs": []
    },
    {
      "cell_type": "code",
      "metadata": {
        "id": "hAASYzuGLwFW",
        "colab_type": "code",
        "colab": {}
      },
      "source": [
        "data['content'] = data['content'].apply(lambda x: \" \".join(x.lower() for x in x.split()))"
      ],
      "execution_count": 0,
      "outputs": []
    },
    {
      "cell_type": "code",
      "metadata": {
        "id": "yk5LlRdfLxMB",
        "colab_type": "code",
        "colab": {}
      },
      "source": [
        "data['content'] = data['content'].str.replace('[^\\w\\s]',' ')\n"
      ],
      "execution_count": 0,
      "outputs": []
    },
    {
      "cell_type": "code",
      "metadata": {
        "id": "fOMTPU37L-IK",
        "colab_type": "code",
        "outputId": "35d401d1-bc3c-4350-d53f-feddc87c7df5",
        "colab": {
          "base_uri": "https://localhost:8080/",
          "height": 50
        }
      },
      "source": [
        "import nltk\n",
        "nltk.download('stopwords')\n",
        "from nltk.corpus import stopwords\n",
        "stop = stopwords.words('english')\n",
        "data['content'] = data['content'].apply(lambda x: \" \".join(x for x in x.split() if x not in stop))"
      ],
      "execution_count": 0,
      "outputs": [
        {
          "output_type": "stream",
          "text": [
            "[nltk_data] Downloading package stopwords to /root/nltk_data...\n",
            "[nltk_data]   Package stopwords is already up-to-date!\n"
          ],
          "name": "stdout"
        }
      ]
    },
    {
      "cell_type": "code",
      "metadata": {
        "id": "zY87E8plMkMB",
        "colab_type": "code",
        "outputId": "0388870b-8be0-4872-decb-79059ef78f3c",
        "colab": {
          "base_uri": "https://localhost:8080/",
          "height": 50
        }
      },
      "source": [
        "import nltk\n",
        "nltk.download('wordnet')\n",
        "from textblob import Word\n",
        "data['content'] = data['content'].apply(lambda x: \" \".join([Word(word).lemmatize() for word in x.split()]))"
      ],
      "execution_count": 0,
      "outputs": [
        {
          "output_type": "stream",
          "text": [
            "[nltk_data] Downloading package wordnet to /root/nltk_data...\n",
            "[nltk_data]   Package wordnet is already up-to-date!\n"
          ],
          "name": "stdout"
        }
      ]
    },
    {
      "cell_type": "code",
      "metadata": {
        "id": "RNaMTMtGOONF",
        "colab_type": "code",
        "colab": {}
      },
      "source": [
        "import re\n",
        "def de_repeat(text):\n",
        "    pattern = re.compile(r\"(.)\\1{2,}\")\n",
        "    return pattern.sub(r\"\\1\\1\", text)\n",
        "#%%\n",
        "data['content'] = data['content'].apply(lambda x: \" \".join(de_repeat(x) for x in x.split()))"
      ],
      "execution_count": 0,
      "outputs": []
    },
    {
      "cell_type": "code",
      "metadata": {
        "id": "VpzZTIcizrR8",
        "colab_type": "code",
        "colab": {}
      },
      "source": [
        "freq = pd.Series(' '.join(data['content']).split()).value_counts()[-10000:]"
      ],
      "execution_count": 0,
      "outputs": []
    },
    {
      "cell_type": "code",
      "metadata": {
        "id": "3CbfLVkO0MDD",
        "colab_type": "code",
        "colab": {}
      },
      "source": [
        "freq = list(freq.index)\n",
        "data['content'] = data['content'].apply(lambda x: \" \".join(x for x in x.split() if x not in freq))"
      ],
      "execution_count": 0,
      "outputs": []
    },
    {
      "cell_type": "code",
      "metadata": {
        "id": "5kOLdCp8I5Ff",
        "colab_type": "code",
        "colab": {}
      },
      "source": [
        "from sklearn import preprocessing\n",
        "lbl_enc = preprocessing.LabelEncoder()\n",
        "y = lbl_enc.fit_transform(data.sentiment.values)\n",
        "\n",
        "\n",
        "from sklearn.model_selection import train_test_split\n",
        "X_train, X_val, y_train, y_val = train_test_split(data.content.values, y, stratify=y, random_state=42, test_size=0.1, shuffle=True)"
      ],
      "execution_count": 0,
      "outputs": []
    },
    {
      "cell_type": "code",
      "metadata": {
        "id": "AvAoms1aJEz4",
        "colab_type": "code",
        "colab": {}
      },
      "source": [
        "from sklearn.feature_extraction.text import CountVectorizer\n",
        "count_vect = CountVectorizer(analyzer='word')\n",
        "count_vect.fit(data['content'])\n",
        "X_train_count =  count_vect.transform(X_train)\n",
        "X_val_count =  count_vect.transform(X_val)"
      ],
      "execution_count": 0,
      "outputs": []
    },
    {
      "cell_type": "code",
      "metadata": {
        "id": "ONEZy_UhJuTf",
        "colab_type": "code",
        "outputId": "833d3628-ad96-4cd8-ecd5-d38110b72e23",
        "colab": {
          "base_uri": "https://localhost:8080/",
          "height": 84
        }
      },
      "source": [
        " from sklearn.metrics import accuracy_score\n",
        "\n",
        " # Model 1: Multinomial Naive Bayes Classifier\n",
        "from sklearn.naive_bayes import MultinomialNB\n",
        "nb = MultinomialNB()\n",
        "nb.fit(X_train_count, y_train)\n",
        "y_pred = nb.predict(X_val_count)\n",
        "print('naive bayes count vectors accuracy %s' % accuracy_score(y_pred, y_val))\n",
        "\n",
        "# Model 2: Linear SVM\n",
        "from sklearn.linear_model import SGDClassifier\n",
        "lsvm = SGDClassifier(alpha=0.001, random_state=5, max_iter=15, tol=None)\n",
        "lsvm.fit(X_train_count, y_train)\n",
        "y_pred = lsvm.predict(X_val_count)\n",
        "print('lsvm using count vectors accuracy %s' % accuracy_score(y_pred, y_val))\n",
        "\n",
        "# Model 3: Logistic Regression\n",
        "from sklearn.linear_model import LogisticRegression\n",
        "logreg = LogisticRegression(C=1)\n",
        "logreg.fit(X_train_count, y_train)\n",
        "y_pred = logreg.predict(X_val_count)\n",
        "print('log reg count vectors accuracy %s' % accuracy_score(y_pred, y_val))\n",
        "\n",
        "\n",
        "# Model 4: Random Forest Classifier\n",
        "from sklearn.ensemble import RandomForestClassifier\n",
        "rf = RandomForestClassifier(n_estimators=500)\n",
        "rf.fit(X_train_count, y_train)\n",
        "y_pred = rf.predict(X_val_count)\n",
        "print('random forest with count vectors accuracy %s' % accuracy_score(y_pred, y_val))\n"
      ],
      "execution_count": 0,
      "outputs": [
        {
          "output_type": "stream",
          "text": [
            "naive bayes count vectors accuracy 0.7745664739884393\n",
            "lsvm using count vectors accuracy 0.7870905587668593\n",
            "log reg count vectors accuracy 0.7851637764932563\n",
            "random forest with count vectors accuracy 0.7581888246628131\n"
          ],
          "name": "stdout"
        }
      ]
    }
  ]
}